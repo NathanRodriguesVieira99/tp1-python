{
 "cells": [
  {
   "cell_type": "markdown",
   "id": "f1c8e4a7",
   "metadata": {},
   "source": [
    "# Exercício 1 - Cadastro de Estagiário com Variáveis Simples\n",
    "\n",
    "**Contexto:** Analistas de folha de pagamento de um escritório contábil precisam registrar os dados básicos dos estagiários recém-contratados. O setor de contabilidade trabalha com sistemas automatizados que processam informações individuais como nome, idade e código de departamento para cálculos de benefícios.\n",
    "\n",
    "**Objetivo:** Declarar e armazenar, em um notebook Python, variáveis contendo informações fixas do aluno, que simularão os dados de um novo estagiário no sistema contábil.\n",
    "\n",
    "**Enunciado:** Defina três variáveis: nome_estagiario, idade_estagiario e codigo_departamento. Atribua os valores com o seu nome próprio, idade e código de sua classe, respectivamente. Em seguida, imprima os valores no formato de cadastro de funcionário (um por linha)."
   ]
  },
  {
   "cell_type": "code",
   "execution_count": null,
   "id": "2588e083",
   "metadata": {},
   "outputs": [
    {
     "name": "stdout",
     "output_type": "stream",
     "text": [
      "=== CADASTRO DE ESTAGIÁRIO ===\n",
      "Nome: Nathan Vieira\n",
      "Idade: 19\n",
      "Código do Departamento: TI001\n"
     ]
    }
   ],
   "source": [
    "nome_estagiario = 'Nathan Vieira'\n",
    "idade_estagiario = 19\n",
    "codigo_departamento = 'TI001'\n",
    "\n",
    "print(\"=== CADASTRO DE ESTAGIÁRIO ===\")\n",
    "print(f\"Nome: {nome_estagiario}\")\n",
    "print(f\"Idade: {idade_estagiario}\")\n",
    "print(f\"Código do Departamento: {codigo_departamento}\")"
   ]
  },
  {
   "cell_type": "markdown",
   "id": "936980bb",
   "metadata": {},
   "source": [
    "# Exercício 2 - Tipos de Dados Primitivos\n",
    "\n",
    "**Objetivo:** Criar variáveis com diferentes tipos primitivos (string, int, float, boolean) para simular o registro de um cliente e imprimir seus valores e tipos.\n",
    "\n",
    "**Enunciado:** Uma consultoria em análise de crédito está desenvolvendo um modelo que processa dados simples de clientes: nome, idade, score e status de adimplência. Cada cliente será descrito por variáveis do tipo string, int, float e boolean, com dados simulados.\n",
    "\n",
    "Crie quatro variáveis com os seguintes dados:\n",
    "- nome_cliente = 'Nathan Vieira'\n",
    "- idade_cliente = 19\n",
    "- score_credito = 772.4\n",
    "- cliente_ativo = True\n",
    "\n",
    "Imprima cada variável junto ao tipo de dado correspondente, utilizando a função type()."
   ]
  },
  {
   "cell_type": "code",
   "execution_count": null,
   "id": "2f6d35e1",
   "metadata": {},
   "outputs": [
    {
     "name": "stdout",
     "output_type": "stream",
     "text": [
      "nome_cliente: Nathan Vieira - Tipo: <class 'str'>\n",
      "idade_cliente: 19 - Tipo: <class 'int'>\n",
      "score_credito: 772.4 - Tipo: <class 'float'>\n",
      "cliente_ativo: True - Tipo: <class 'bool'>\n"
     ]
    }
   ],
   "source": [
    "nome_cliente = 'Nathan Vieira'\n",
    "idade_cliente = 19\n",
    "score_credito = 772.4\n",
    "cliente_ativo = True\n",
    "\n",
    "print(f\"nome_cliente: {nome_cliente} - Tipo: {type(nome_cliente)}\")\n",
    "print(f\"idade_cliente: {idade_cliente} - Tipo: {type(idade_cliente)}\")\n",
    "print(f\"score_credito: {score_credito} - Tipo: {type(score_credito)}\")\n",
    "print(f\"cliente_ativo: {cliente_ativo} - Tipo: {type(cliente_ativo)}\")"
   ]
  },
  {
   "cell_type": "markdown",
   "id": "6db8e118",
   "metadata": {},
   "source": [
    "# Exercício 3 - Operações Aritméticas em Contexto Logístico\n",
    "\n",
    "**Contexto:** Uma empresa de logística quer calcular a quilometragem total e o custo médio de combustível de entregas urbanas. Cada veículo da frota percorre em média [IDADE] quilômetros por dia, e os gastos diários com combustível são equivalentes a [300 + ANO_2_DIGITOS] reais.\n",
    "\n",
    "**Objetivo:** Calcular e imprimir os resultados de diferentes operações aritméticas a partir de variáveis fixas que simulam consumo e deslocamento logístico.\n",
    "\n",
    "**Enunciado:** Defina km_por_dia = [IDADE] e gasto_diario = [300 + ANO_2_DIGITOS]. Imprima os resultados de:\n",
    "\n",
    "1. Total em uma semana (km_por_dia * 7)\n",
    "2. Diferença entre 100 reais e o gasto diário (100 - gasto_diario)\n",
    "3. Quantos dias o valor de R$500 cobre (500 // gasto_diario)\n",
    "4. Porcentagem do gasto diário em relação a 100 (gasto_diario % 100)\n",
    "5. Média diária de custo por km (gasto_diario / km_por_dia)"
   ]
  },
  {
   "cell_type": "code",
   "execution_count": 4,
   "id": "f725ad0a",
   "metadata": {},
   "outputs": [
    {
     "name": "stdout",
     "output_type": "stream",
     "text": [
      "--- CÁLCULOS  ---\n",
      "Quilômetros por dia: 19 km\n",
      "Gasto diário: R$ 307\n",
      "\n",
      "--- RESULTADOS ---\n",
      "1. Total em uma semana: 133 km\n",
      "2. Diferença entre R$100 e gasto diário: R$ -207\n",
      "3. Quantos dias R$500 cobre: 1 dias\n",
      "4. Resto da divisão do gasto diário por 100: 7\n",
      "5. Custo por km: R$ 16.16\n"
     ]
    }
   ],
   "source": [
    "km_por_dia = 19\n",
    "ANO_2_digitos = 7\n",
    "gasto_diario = 300 + ANO_2_digitos\n",
    "\n",
    "print(\"--- CÁLCULOS  ---\")\n",
    "print(f\"Quilômetros por dia: {km_por_dia} km\")\n",
    "print(f\"Gasto diário: R$ {gasto_diario}\")\n",
    "print()\n",
    "\n",
    "print(\"--- RESULTADOS ---\")\n",
    "\n",
    "total_semana = km_por_dia * 7\n",
    "print(f\"1. Total em uma semana: {total_semana} km\")\n",
    "\n",
    "diferenca = 100 - gasto_diario\n",
    "print(f\"2. Diferença entre R$100 e gasto diário: R$ {diferenca}\")\n",
    "\n",
    "dias_cobertura = 500 // gasto_diario\n",
    "print(f\"3. Quantos dias R$500 cobre: {dias_cobertura} dias\")\n",
    "\n",
    "resto = gasto_diario % 100\n",
    "print(f\"4. Resto da divisão do gasto diário por 100: {resto}\")\n",
    "\n",
    "custo_por_km = gasto_diario / km_por_dia\n",
    "print(f\"5. Custo por km: R$ {custo_por_km:.2f}\")"
   ]
  },
  {
   "cell_type": "markdown",
   "id": "87818ff9",
   "metadata": {},
   "source": [
    "# Exercício 4\n",
    "Descreva o enunciado do exercício 4 aqui."
   ]
  },
  {
   "cell_type": "code",
   "execution_count": 4,
   "id": "7778e36c",
   "metadata": {},
   "outputs": [
    {
     "name": "stdout",
     "output_type": "stream",
     "text": [
      "ex4\n"
     ]
    }
   ],
   "source": [
    "# Resolução do exercício 4\n",
    "print('ex4')"
   ]
  },
  {
   "cell_type": "markdown",
   "id": "6e3a1d5b",
   "metadata": {},
   "source": [
    "# Exercício 5\n",
    "Descreva o enunciado do exercício 5 aqui."
   ]
  },
  {
   "cell_type": "code",
   "execution_count": 5,
   "id": "ce4debd6",
   "metadata": {},
   "outputs": [
    {
     "name": "stdout",
     "output_type": "stream",
     "text": [
      "ex5\n"
     ]
    }
   ],
   "source": [
    "# Resolução do exercício 5\n",
    "print('ex5')"
   ]
  },
  {
   "cell_type": "markdown",
   "id": "77c2bed4",
   "metadata": {},
   "source": [
    "# Exercício 6\n",
    "Descreva o enunciado do exercício 6 aqui."
   ]
  },
  {
   "cell_type": "code",
   "execution_count": 6,
   "id": "21d9a123",
   "metadata": {},
   "outputs": [
    {
     "name": "stdout",
     "output_type": "stream",
     "text": [
      "ex6\n"
     ]
    }
   ],
   "source": [
    "# Resolução do exercício 6\n",
    "print('ex6')"
   ]
  },
  {
   "cell_type": "markdown",
   "id": "93c1bfb0",
   "metadata": {},
   "source": [
    "# Exercício 7\n",
    "Descreva o enunciado do exercício 7 aqui."
   ]
  },
  {
   "cell_type": "code",
   "execution_count": 7,
   "id": "dc6a2748",
   "metadata": {},
   "outputs": [
    {
     "name": "stdout",
     "output_type": "stream",
     "text": [
      "ex7\n"
     ]
    }
   ],
   "source": [
    "# Resolução do exercício 7\n",
    "print('ex7')"
   ]
  },
  {
   "cell_type": "markdown",
   "id": "f7a1c8b3",
   "metadata": {},
   "source": [
    "# Exercício 8\n",
    "Descreva o enunciado do exercício 8 aqui."
   ]
  },
  {
   "cell_type": "code",
   "execution_count": 8,
   "id": "67b00ebb",
   "metadata": {},
   "outputs": [
    {
     "name": "stdout",
     "output_type": "stream",
     "text": [
      "ex8\n"
     ]
    }
   ],
   "source": [
    "# Resolução do exercício 8\n",
    "print('ex8')"
   ]
  },
  {
   "cell_type": "markdown",
   "id": "2a792748",
   "metadata": {},
   "source": [
    "# Exercício 9\n",
    "Descreva o enunciado do exercício 9 aqui."
   ]
  },
  {
   "cell_type": "code",
   "execution_count": 9,
   "id": "8d815831",
   "metadata": {},
   "outputs": [
    {
     "name": "stdout",
     "output_type": "stream",
     "text": [
      "ex9\n"
     ]
    }
   ],
   "source": [
    "# Resolução do exercício 9\n",
    "print('ex9')"
   ]
  },
  {
   "cell_type": "markdown",
   "id": "e2c5bcce",
   "metadata": {},
   "source": [
    "# Exercício 10\n",
    "Descreva o enunciado do exercício 10 aqui."
   ]
  },
  {
   "cell_type": "code",
   "execution_count": 10,
   "id": "6ee25693",
   "metadata": {},
   "outputs": [
    {
     "name": "stdout",
     "output_type": "stream",
     "text": [
      "ex10\n"
     ]
    }
   ],
   "source": [
    "# Resolução do exercício 10\n",
    "print('ex10')"
   ]
  },
  {
   "cell_type": "markdown",
   "id": "3e7b4eb3",
   "metadata": {},
   "source": [
    "# Exercício 11\n",
    "Descreva o enunciado do exercício 11 aqui."
   ]
  },
  {
   "cell_type": "code",
   "execution_count": 11,
   "id": "607ad08d",
   "metadata": {},
   "outputs": [
    {
     "name": "stdout",
     "output_type": "stream",
     "text": [
      "ex11\n"
     ]
    }
   ],
   "source": [
    "# Resolução do exercício 11\n",
    "print('ex11')"
   ]
  },
  {
   "cell_type": "markdown",
   "id": "9acaf40c",
   "metadata": {},
   "source": [
    "# Exercício 12\n",
    "Descreva o enunciado do exercício 12 aqui."
   ]
  },
  {
   "cell_type": "code",
   "execution_count": 12,
   "id": "ba3449d2",
   "metadata": {},
   "outputs": [
    {
     "name": "stdout",
     "output_type": "stream",
     "text": [
      "ex12\n"
     ]
    }
   ],
   "source": [
    "# Resolução do exercício 12\n",
    "print('ex12')"
   ]
  }
 ],
 "metadata": {
  "kernelspec": {
   "display_name": "Python 3",
   "language": "python",
   "name": "python3"
  },
  "language_info": {
   "codemirror_mode": {
    "name": "ipython",
    "version": 3
   },
   "file_extension": ".py",
   "mimetype": "text/x-python",
   "name": "python",
   "nbconvert_exporter": "python",
   "pygments_lexer": "ipython3",
   "version": "3.13.2"
  }
 },
 "nbformat": 4,
 "nbformat_minor": 5
}
